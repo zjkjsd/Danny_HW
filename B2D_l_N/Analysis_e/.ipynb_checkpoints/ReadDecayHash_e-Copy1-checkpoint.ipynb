{
 "cells": [
  {
   "cell_type": "markdown",
   "metadata": {},
   "source": [
    "# 1. Import Ntuple and DecayHash"
   ]
  },
  {
   "cell_type": "code",
   "execution_count": 14,
   "metadata": {},
   "outputs": [],
   "source": [
    "import root_pandas\n",
    "import decayHash\n",
    "import basf2 as b2\n",
    "from decayHash import DecayHashMap\n",
    "import sys\n",
    "import numpy as np\n",
    "\n",
    "# read in root-file as a pandas dataframe\n",
    "filename='../Ntuples/MC_e_10k.root'\n",
    "decayhash='../Ntuples/hashmap_MC_e_10k.root'\n",
    "data = root_pandas.read_root(filename,key='B0')\n",
    "hashmap = DecayHashMap(decayhash, removeRadiativeGammaFlag=False)\n",
    "hashmap2 = DecayHashMap(decayhash, removeRadiativeGammaFlag=True)"
   ]
  },
  {
   "cell_type": "markdown",
   "metadata": {},
   "source": [
    "# 4. Add DecayMode column to the Ntuple"
   ]
  },
  {
   "cell_type": "code",
   "execution_count": 15,
   "metadata": {},
   "outputs": [],
   "source": [
    "def found(modes,row):\n",
    "    for mode in modes:\n",
    "        decaytree = decayHash.Belle2.DecayTree(mode)\n",
    "        if hashmap2.get_original_decay(row[\"B0_DecayHash\"],row[\"B0_DecayHashEx\"]).find_decay(decaytree):\n",
    "            return True\n",
    "    return False\n",
    "\n",
    "def decay_mode(row):\n",
    "    for name,modes in mode_dict.items():\n",
    "        if found(modes,row):\n",
    "            return name\n",
    "    return 'bkg'\n",
    "\n",
    "mode_dict={}\n",
    "mode_dict['D_tau_nu']=['511 (-> -411 -15 (-> -11 12 -16) 16)','-511 (-> 411 15 (-> 11 -12 16) -16)',\n",
    "                       '511 (-> -411 -15 (-> -13 14 -16) 16)','-511 (-> 411 15 (-> 13 -14 16) -16)']\n",
    "mode_dict['D_e_nu']=['511 (-> -411 -11 12)','-511 (-> 411 11 -12)']\n",
    "mode_dict['D_mu_nu']=['511 (-> -411 -13 14)','-511 (-> 411 13 -14)']\n",
    "mode_dict['Dst_tau_nu']=['511 (-> -413 -15 (-> -11 12 -16) 16)','-511 (-> 413 15 (-> 11 -12 16) -16)',\n",
    "                         '511 (-> -413 -15 (-> -13 14 -16) 16)','-511 (-> 413 15 (-> 13 -14 16) -16)']\n",
    "mode_dict['Dst_e_nu']=['511 (-> -413 -11 12)','-511 (-> 413 11 -12)']\n",
    "mode_dict['Dst_mu_nu']=['511 (-> -413 -13 14)','-511 (-> 413 13 -14)']\n",
    "mode_dict['Dstst_tau_nu']=['511 (-> -10413 -15 16)','-511 (-> 10413 15 -16)',\n",
    "                           '511 (-> -10411 -15 16)','-511 (-> 10411 15 -16)',\n",
    "                           '511 (-> -20413 -15 16)','-511 (-> 20413 15 -16)',\n",
    "                           '511 (-> -415 -15 16)',  '-511 (-> 415 15 -16)',\n",
    "                           '521 (-> -10423 -15 16)','-521 (-> 10423 15 -16)',\n",
    "                           '521 (-> -10421 -15 16)','-521 (-> 10421 15 -16)',\n",
    "                           '521 (-> -20423 -15 16)','-521 (-> 20423 15 -16)',\n",
    "                           '521 (-> -425 -15 16)',  '-521 (-> 425 15 -16)']\n",
    "\n",
    "mode_dict['Dstst_e_nu']=['511 (-> -10413 -11 12)','-511 (-> 10413 11 -12)',\n",
    "                         '511 (-> -10411 -11 12)','-511 (-> 10411 11 -12)',\n",
    "                         '511 (-> -20413 -11 12)','-511 (-> 20413 11 -12)',\n",
    "                         '511 (-> -415 -11 12)',  '-511 (-> 415 11 -12)',\n",
    "                         '521 (-> -10423 -11 12)','-521 (-> 10423 11 -12)',\n",
    "                         '521 (-> -10421 -11 12)','-521 (-> 10421 11 -12)',\n",
    "                         '521 (-> -20423 -11 12)','-521 (-> 20423 11 -12)',\n",
    "                         '521 (-> -425 -11 12)',  '-521 (-> 425 11 -12)',\n",
    "                         '511 (-> -411 221 -11 12)','-511 (-> 411 221 11 -12)',\n",
    "                         '511 (-> -411 111 -11 12)','-511 (-> 411 111 11 -12)',\n",
    "                         '511 (-> -411 111 111 -11 12)','-511 (-> 411 111 111 11 -12)',\n",
    "                         '511 (-> -411 -211 211 -11 12)','-511 (-> 411 211 -211 11 -12)',\n",
    "                         '511 (-> -413 221 -11 12)','-511 (-> 413 221 11 -12)',\n",
    "                         '511 (-> -413 111 -11 12)','-511 (-> 413 111 11 -12)',\n",
    "                         '511 (-> -413 111 111 -11 12)','-511 (-> 413 111 111 11 -12)',\n",
    "                         '511 (-> -413 -211 211 -11 12)','-511 (-> 413 211 -211 11 -12)',\n",
    "                         '511 (-> -421 -211 -11 12)','-511 (-> 421 211 11 -12)',\n",
    "                         '511 (-> -423 -211 -11 12)','-511 (-> 423 211 11 -12)']\n",
    "\n",
    "mode_dict['Dstst_mu_nu']=['511 (-> -10413 -13 14)','-511 (-> 10413 13 -14)',\n",
    "                          '511 (-> -10411 -13 14)','-511 (-> 10411 13 -14)',\n",
    "                          '511 (-> -20413 -13 14)','-511 (-> 20413 13 -14)',\n",
    "                          '511 (-> -415 -13 14)',  '-511 (-> 415 13 -14)',\n",
    "                          '521 (-> -10423 -13 14)','-521 (-> 10423 13 -14)',\n",
    "                          '521 (-> -10421 -13 14)','-521 (-> 10421 13 -14)',\n",
    "                          '521 (-> -20423 -13 14)','-521 (-> 20423 13 -14)',\n",
    "                          '521 (-> -425 -13 14)',  '-521 (-> 425 13 -14)',\n",
    "                          '511 (-> -411 221 -13 14)','-511 (-> 411 221 13 -14)',\n",
    "                          '511 (-> -411 111 -13 14)','-511 (-> 411 111 13 -14)',\n",
    "                          '511 (-> -411 111 111 -13 14)','-511 (-> 411 111 111 13 -14)',\n",
    "                          '511 (-> -411 -211 211 -13 14)','-511 (-> 411 211 -211 13 -14)',\n",
    "                          '511 (-> -413 221 -13 14)','-511 (-> 413 221 13 -14)',\n",
    "                          '511 (-> -413 111 -13 14)','-511 (-> 413 111 13 -14)',\n",
    "                          '511 (-> -413 111 111 -13 14)','-511 (-> 413 111 111 13 -14)',\n",
    "                          '511 (-> -413 -211 211 -13 14)','-511 (-> 413 211 -211 13 -14)',\n",
    "                          '511 (-> -421 -211 -13 14)','-511 (-> 421 211 13 -14)',\n",
    "                          '511 (-> -423 -211 -13 14)','-511 (-> 423 211 13 -14)']"
   ]
  },
  {
   "cell_type": "code",
   "execution_count": 16,
   "metadata": {},
   "outputs": [],
   "source": [
    "data['DecayMode'] = data.apply(decay_mode, axis=1).astype('category') #axis=0 will allow the application to be done at a column"
   ]
  },
  {
   "cell_type": "code",
   "execution_count": 4,
   "metadata": {},
   "outputs": [
    {
     "data": {
      "text/plain": [
       "D_e_nu          3823\n",
       "D_tau_nu          16\n",
       "Dst_e_nu           9\n",
       "Dstst_mu_nu        1\n",
       "Dstst_tau_nu       1\n",
       "bkg                1\n",
       "Name: DecayMode, dtype: int64"
      ]
     },
     "execution_count": 4,
     "metadata": {},
     "output_type": "execute_result"
    }
   ],
   "source": [
    "data.DecayMode.value_counts()"
   ]
  },
  {
   "cell_type": "code",
   "execution_count": 25,
   "metadata": {},
   "outputs": [],
   "source": [
    "# Apply basic cuts to reduce data size\n",
    "B0_cuts = '4.9<B0_Mbc<5.3 and -2.5<B0_deltaE<0 and 0<=B0_vtxReChi2<6 and B0_CMS_E<5.3'\n",
    "D_cuts = 'and D_vtxReChi2<6.5'\n",
    "l_cuts = 'and e_CMS_p>0.2'\n",
    "roe_cuts = 'and B0_roeMbc_my_mask>4.9 and B0_roeDeltae_my_mask<1.5'\n",
    "#and B0_roeCharge_my_mask==0'\n",
    "all_cuts = B0_cuts + D_cuts + l_cuts + roe_cuts\n",
    "\n",
    "df_cut = data.query(all_cuts).copy()"
   ]
  },
  {
   "cell_type": "code",
   "execution_count": 6,
   "metadata": {},
   "outputs": [
    {
     "data": {
      "text/plain": [
       "D_e_nu          2470\n",
       "D_tau_nu          11\n",
       "Dst_e_nu           4\n",
       "Dstst_mu_nu        0\n",
       "Dstst_tau_nu       0\n",
       "bkg                0\n",
       "Name: DecayMode, dtype: int64"
      ]
     },
     "execution_count": 6,
     "metadata": {},
     "output_type": "execute_result"
    }
   ],
   "source": [
    "df_cut.DecayMode.value_counts()"
   ]
  },
  {
   "cell_type": "markdown",
   "metadata": {},
   "source": [
    "# 5. Add MM2 column"
   ]
  },
  {
   "cell_type": "code",
   "execution_count": 26,
   "metadata": {},
   "outputs": [],
   "source": [
    "# MM2 with ROE = Mbc_roe^2 + M_Y^2 - 2*E_Beam*E_Y - 2*(p_roe dot p_Y)\n",
    "# Use ROE information p_roe only, E_roe has bad resolution and is unnecessary\n",
    "# Note that p are 3 momenta vectors and p_cm is 0 (center of momentum frame)\n",
    "import pdg\n",
    "def withROE_mm2_2(data):\n",
    "    # Energy\n",
    "    E_B = data.Ecms.mean()/2\n",
    "    E_Y = data.D_CMS_E + data.e_CMS_E\n",
    "    Mbc_roe = data.B0_roeMbc_my_mask\n",
    "    # Calculating M_Y^2\n",
    "    p_Yx = data.D_CMS_px + data.e_CMS_px\n",
    "    p_Yy = data.D_CMS_py + data.e_CMS_py\n",
    "    p_Yz = data.D_CMS_pz + data.e_CMS_pz\n",
    "    p_Y2 = p_Yx**2 + p_Yy**2 + p_Yz**2\n",
    "    m_Y2 = E_Y**2 - p_Y2\n",
    "    # dot product\n",
    "    p_xdot = data.B0_CMS_roePx_my_mask * p_Yx\n",
    "    p_ydot = data.B0_CMS_roePy_my_mask * p_Yy\n",
    "    p_zdot = data.B0_CMS_roePz_my_mask * p_Yz\n",
    "    p_dot = p_xdot + p_ydot + p_zdot\n",
    "    # Calculating the final quantities\n",
    "    withROE_missing_m2 = Mbc_roe**2 + m_Y2 - 2*E_B*E_Y - 2*p_dot\n",
    "    cos_theta_BY = 0\n",
    "    return withROE_missing_m2"
   ]
  },
  {
   "cell_type": "code",
   "execution_count": 27,
   "metadata": {},
   "outputs": [],
   "source": [
    "df_cut['MM2'] = withROE_mm2_2(df_cut)"
   ]
  },
  {
   "cell_type": "code",
   "execution_count": 7,
   "metadata": {},
   "outputs": [
    {
     "data": {
      "text/plain": [
       "count    1580.000000\n",
       "mean        2.087203\n",
       "std         1.943088\n",
       "min        -8.359064\n",
       "25%         0.993457\n",
       "50%         2.237505\n",
       "75%         3.503632\n",
       "max         6.065778\n",
       "Name: MM2, dtype: float64"
      ]
     },
     "execution_count": 7,
     "metadata": {},
     "output_type": "execute_result"
    }
   ],
   "source": [
    "df_cut.MM2.describe()"
   ]
  },
  {
   "cell_type": "code",
   "execution_count": 28,
   "metadata": {},
   "outputs": [],
   "source": [
    "def cos_D_l(df):\n",
    "    dot_product=df.D_CMS_px*df.e_CMS_px+df.D_CMS_py*df.e_CMS_py+df.D_CMS_pz*df.e_CMS_pz\n",
    "    magnitude=df.D_CMS_p*df.e_CMS_p\n",
    "    cos=dot_product/magnitude\n",
    "    return cos"
   ]
  },
  {
   "cell_type": "code",
   "execution_count": 29,
   "metadata": {},
   "outputs": [],
   "source": [
    "df_cut['cos_D_l'] = cos_D_l(df_cut)"
   ]
  },
  {
   "cell_type": "code",
   "execution_count": 18,
   "metadata": {},
   "outputs": [
    {
     "data": {
      "text/plain": [
       "count    1569.000000\n",
       "mean       -0.482890\n",
       "std         0.461919\n",
       "min        -0.999385\n",
       "25%        -0.853546\n",
       "50%        -0.618067\n",
       "75%        -0.226904\n",
       "max         0.994207\n",
       "Name: cos_D_l, dtype: float64"
      ]
     },
     "execution_count": 18,
     "metadata": {},
     "output_type": "execute_result"
    }
   ],
   "source": [
    "df_cut.cos_D_l.describe()"
   ]
  },
  {
   "cell_type": "code",
   "execution_count": 30,
   "metadata": {},
   "outputs": [],
   "source": [
    "# p_miss = p_cm - p_roe - p_D - p_l = - (p_roe + p_D + p_l)\n",
    "# Note that p are 3 momenta vectors and p_cm is 0 (center of momentum frame)\n",
    "import numpy as np\n",
    "def cos_pmiss_z(data):\n",
    "    # 3 momentum\n",
    "    p_x = data.B0_CMS_roePx_my_mask + data.D_CMS_px + data.e_CMS_px\n",
    "    p_y = data.B0_CMS_roePy_my_mask + data.D_CMS_py + data.e_CMS_py\n",
    "    p_z = data.B0_CMS_roePz_my_mask + data.D_CMS_pz + data.e_CMS_pz\n",
    "    # Calculating intermediate quantities\n",
    "    p_miss2 = p_x**2 + p_y**2 + p_z**2\n",
    "    # Calculating the final quantities\n",
    "    dot_product = -p_z\n",
    "    cos = dot_product/np.sqrt(p_miss2)\n",
    "    return cos"
   ]
  },
  {
   "cell_type": "code",
   "execution_count": 31,
   "metadata": {},
   "outputs": [],
   "source": [
    "df_cut['cos_pmiss_z'] = cos_pmiss_z(df_cut)"
   ]
  },
  {
   "cell_type": "markdown",
   "metadata": {},
   "source": [
    "# 6. Write out new Ntuple"
   ]
  },
  {
   "cell_type": "code",
   "execution_count": 32,
   "metadata": {},
   "outputs": [],
   "source": [
    "df_cut.to_root('../Ntuples/MC_e_10k_cut.root', key='B0')"
   ]
  },
  {
   "cell_type": "code",
   "execution_count": null,
   "metadata": {},
   "outputs": [],
   "source": []
  }
 ],
 "metadata": {
  "kernelspec": {
   "display_name": "Python 3 (Belle2)",
   "language": "python",
   "name": "python3"
  },
  "language_info": {
   "codemirror_mode": {
    "name": "ipython",
    "version": 3
   },
   "file_extension": ".py",
   "mimetype": "text/x-python",
   "name": "python",
   "nbconvert_exporter": "python",
   "pygments_lexer": "ipython3",
   "version": "3.8.8"
  }
 },
 "nbformat": 4,
 "nbformat_minor": 4
}
